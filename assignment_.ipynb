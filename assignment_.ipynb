{
  "nbformat": 4,
  "nbformat_minor": 0,
  "metadata": {
    "colab": {
      "provenance": []
    },
    "kernelspec": {
      "name": "python3",
      "display_name": "Python 3"
    },
    "language_info": {
      "name": "python"
    }
  },
  "cells": [
    {
      "cell_type": "markdown",
      "source": [
        "#**Python Basics Question**"
      ],
      "metadata": {
        "id": "glWdw3gI4TNB"
      }
    },
    {
      "cell_type": "markdown",
      "source": [
        "1. What is Python, and why is it popular?\n",
        "\n",
        " * Python is a high-level, easy-to learn programming language used for web developement, data science, A.I and more.\n",
        "\n",
        "\n",
        " Why is it so popular?\n",
        "\n",
        " * Easy to understand for biggener's.\n",
        "\n",
        "* Powerful libraries - for data ai web etc.\n",
        "\n",
        "* can be easily run in any platform.\n",
        "\n",
        "* like., :- Windows, Mac, Linux etc.\n",
        "\n",
        "* A big community - lots of support.\n"
      ],
      "metadata": {
        "id": "lHJJaYN9fTg0"
      }
    },
    {
      "cell_type": "markdown",
      "source": [
        "2. What is an interpreter in Python ?\n",
        "   \n",
        "  * An interpreter in Python is a program that reads and runs your code one line at a time. It dosen't convert the whole code at once like a compiler. Instead, it checks each line, translate it, and runs it immediately. This helps in quickly finding errors and testing small parts of the code.   "
      ],
      "metadata": {
        "id": "Ea4yZbzygJoZ"
      }
    },
    {
      "cell_type": "markdown",
      "source": [
        "3. What are pre-defined keywords in Python?\n",
        "\n",
        "* Pre-defined keywords in Python are special reserved words that have specific meanings and uses in the language. These keywords are part of Python's syntax and cannot be used as variable names, function names, or identifires.\n",
        "* Examples includes,if,else,while,for,def,class,and import. They help Python understand the structure and flow of your code.   "
      ],
      "metadata": {
        "id": "n1uE-TVXjF0a"
      }
    },
    {
      "cell_type": "markdown",
      "source": [
        "4. Can keywords be used as variables names?\n",
        "\n",
        "* NO, keywords cannot be used as  variable names in Python. Since keywords have special meanings in the language(like if, while,def),using them as variable names will cause a syntax error."
      ],
      "metadata": {
        "id": "jRoyqb6rkUxO"
      }
    },
    {
      "cell_type": "markdown",
      "source": [
        "5. What is mutability in Python?\n",
        "\n",
        "* Mutability in Python means whether you can change the value of something after creating it. If something is mutable, like a list, you can change it later. If it's immutable, like a string or number, you can't change it."
      ],
      "metadata": {
        "id": "1w5eqDaklLd7"
      }
    },
    {
      "cell_type": "markdown",
      "source": [
        "6. Why are list mutable, but tuples are immutable?\n",
        "\n",
        "* Lists are mutable because they're made to store and change data easily-we can add, remove,or,change iterms inside them. Python allows this because lists are often used when data needs to be updated.\n",
        "* Tuples are immutable because they're made to protect data.Once a tuple is created, it stays the same. This makes them faster and safer for fixed data."
      ],
      "metadata": {
        "id": "mLiEBeLTmNHq"
      }
    },
    {
      "cell_type": "markdown",
      "source": [
        "7. What is the differnce between \"==\" and \"is\" operators in Python?\n",
        "\n",
        "* In Python: \"==\" checks if two values are equal(it compares the actual data inside).\n",
        "* Example:- 9==9 is True.\n",
        "\n",
        "* \"is\" checks the if two variables point to the same object in memory.\n",
        "* Examole:- a is b ,is True only if a and b are the exact same object."
      ],
      "metadata": {
        "id": "YOeTOFFzmNX0"
      }
    },
    {
      "cell_type": "markdown",
      "source": [
        "8. What are logical operators in Python?\n",
        "\n",
        "* Logical operators in Python are used to combine multiple conditions or expressions.They return either True or False based on logic.Their are three main logical operators:\n",
        "* and - Returns True if both conditions are ture.\n",
        "* or - Returns True if atleast one condition is true.\n",
        "* not - Reverses the result."
      ],
      "metadata": {
        "id": "AnzUvbaemNjq"
      }
    },
    {
      "cell_type": "markdown",
      "source": [
        "9. What is type casting in Python?\n",
        "\n",
        "* Type casting in Python means changing a value from one data type to another,like turning a number into a string or a stringn into a number. It helps when you're working with different kinds of data and need them to match.Their are two types of type casting\n",
        "* Implicit type casting\n",
        "*Explicit type casting"
      ],
      "metadata": {
        "id": "8UTz_pOGmNnE"
      }
    },
    {
      "cell_type": "markdown",
      "source": [
        "10. What is the difference between implicit and explicit type casting?\n",
        "\n",
        "* Implicit type casting is done automatically by Python.It happens when Python safely converts one type to another during operations.\n",
        "* Explicit type casting is done manually by the programmer using functions like int(),float(),or str()."
      ],
      "metadata": {
        "id": "oYycUPeomNvN"
      }
    },
    {
      "cell_type": "markdown",
      "source": [
        "11. What is the purpose of conditional statements in Python?\n",
        "\n",
        "* The purpose of conditional statements in Python is to allow your program to make a decision and take different actions based on specific conditions.They help your code respond to different situations instead of just running straight from top to bottom.For example,if a user enters a certain input,the program can decide what to do next-like showing massage,running a calculation,or stopping the program. Python uses keywords like if,elif,and else to create these conditions.These statements check whether a condition is true or false and then execute the related block of code."
      ],
      "metadata": {
        "id": "OzNwO_vlmNzJ"
      }
    },
    {
      "cell_type": "markdown",
      "source": [
        "12. How does elif statement work?\n",
        "\n",
        "* The elif in Python means \"else if\". It is used when you want to check multiple conditions one after another.\n",
        "**Here's how it works:**\n",
        "* First,Python checks the if conditiom.\n",
        "* If if is true,it runs that block and skip everything else.\n",
        "* If if is false,it checks the elif condition.\n",
        "* If elif is true,it runs that block.\n",
        "* If none of the if or elif conditions are true,then the else block runs."
      ],
      "metadata": {
        "id": "jR7W_bCfmN16"
      }
    },
    {
      "cell_type": "markdown",
      "source": [
        "13. What is the difference between for and while loops?\n",
        "\n",
        "* The different between for and while loops in Python is in how they repeat the code:\n",
        "* A for loop is used when you known in advance how many times you want to run the loop.It gives through a sequence one item at a time.\n",
        "* A while loop is used when you don't know in advance how many times you want to run the loop.It keeps running as long as a condition is true."
      ],
      "metadata": {
        "id": "B9gqwVemmN39"
      }
    },
    {
      "cell_type": "markdown",
      "source": [
        "14. Describe a scenario where a while loop is more suitable than a for loop.\n",
        "\n",
        "* A while loop is more suitable when you don't known beforehand how many times the loop should run-you just want it to keep going until a condition changes.\n",
        "**Example scenario:-** You’re asking a user to enter the correct password. You don’t know how many tries they’ll need, so you keep asking until they enter the right one. In this case, a while loop is perfect because it runs as long as the entered password is wrong, and stops only when the condition becomes false (i.e., the correct password is entered).\n"
      ],
      "metadata": {
        "id": "WCUwLfNLmN9C"
      }
    },
    {
      "cell_type": "markdown",
      "source": [
        "#**Python Basics Question:**"
      ],
      "metadata": {
        "id": "Z15bRa7DmN_U"
      }
    },
    {
      "cell_type": "markdown",
      "source": [
        "1.Write a Python program to print \"Hello World!\""
      ],
      "metadata": {
        "id": "9lhHZ8qwmOCH"
      }
    },
    {
      "cell_type": "code",
      "source": [
        "print(\"Hello WOrld\")"
      ],
      "metadata": {
        "colab": {
          "base_uri": "https://localhost:8080/"
        },
        "id": "QpWWBqcT0HyX",
        "outputId": "0020eb8e-b616-4242-d7a8-4964cfb2cd84"
      },
      "execution_count": 1,
      "outputs": [
        {
          "output_type": "stream",
          "name": "stdout",
          "text": [
            "Hello WOrld\n"
          ]
        }
      ]
    },
    {
      "cell_type": "markdown",
      "source": [
        "2.Write a Python program that displays your name and age."
      ],
      "metadata": {
        "id": "uvz7F7yAmOEj"
      }
    },
    {
      "cell_type": "code",
      "source": [
        "name= input(\"Enter your name: \")\n",
        "age= input(\"Enter your age: \")"
      ],
      "metadata": {
        "colab": {
          "base_uri": "https://localhost:8080/"
        },
        "id": "tvzOUPTN0i3D",
        "outputId": "f1e6dfa8-85e3-4712-99bb-315ff27da80f"
      },
      "execution_count": 2,
      "outputs": [
        {
          "name": "stdout",
          "output_type": "stream",
          "text": [
            "Enter your name: Shreyash\n",
            "Enter your age: 22\n"
          ]
        }
      ]
    },
    {
      "cell_type": "markdown",
      "source": [
        "3.Write code to print all the pre-defined keywords in Python using the keyword library."
      ],
      "metadata": {
        "id": "lp6zn1G8mOIJ"
      }
    },
    {
      "cell_type": "code",
      "source": [
        "help(\"keywords\")\n"
      ],
      "metadata": {
        "colab": {
          "base_uri": "https://localhost:8080/"
        },
        "id": "kri-UaLD0h9U",
        "outputId": "4cc82488-d8c4-419b-b142-9aca5385f7d4"
      },
      "execution_count": 3,
      "outputs": [
        {
          "output_type": "stream",
          "name": "stdout",
          "text": [
            "\n",
            "Here is a list of the Python keywords.  Enter any keyword to get more help.\n",
            "\n",
            "False               class               from                or\n",
            "None                continue            global              pass\n",
            "True                def                 if                  raise\n",
            "and                 del                 import              return\n",
            "as                  elif                in                  try\n",
            "assert              else                is                  while\n",
            "async               except              lambda              with\n",
            "await               finally             nonlocal            yield\n",
            "break               for                 not                 \n",
            "\n"
          ]
        }
      ]
    },
    {
      "cell_type": "markdown",
      "source": [
        "4.Write a program that checks if a given word is a Python keyword."
      ],
      "metadata": {
        "id": "eJOtl3Uf1JkY"
      }
    },
    {
      "cell_type": "code",
      "source": [
        "import keyword\n",
        "\n",
        "word = input(\"Enter a word: \")\n",
        "\n",
        "if keyword.iskeyword(word):\n",
        "    print(f\"'{word}' is a Python keyword.\")\n",
        "else:\n",
        "    print(f\"'{word}' is not a Python keyword.\")"
      ],
      "metadata": {
        "colab": {
          "base_uri": "https://localhost:8080/"
        },
        "id": "vsNdeJow1MDG",
        "outputId": "b06844b1-32b1-47a1-e4ad-e6c8825847cb"
      },
      "execution_count": 4,
      "outputs": [
        {
          "output_type": "stream",
          "name": "stdout",
          "text": [
            "Enter a word: class\n",
            "'class' is a Python keyword.\n"
          ]
        }
      ]
    },
    {
      "cell_type": "markdown",
      "source": [
        "5.Create a list and tuple in Python, and demonstrate how attempting to change an element works differently for each."
      ],
      "metadata": {
        "id": "q178Um8_1Jxp"
      }
    },
    {
      "cell_type": "code",
      "source": [
        "list = [1,2,3,4,5,6,7,8,9]\n",
        "tuple = (1,2,3,4,5,6,7)"
      ],
      "metadata": {
        "id": "Uta515Ro1ibS"
      },
      "execution_count": 5,
      "outputs": []
    },
    {
      "cell_type": "markdown",
      "source": [
        "6.Write a function to demonstrate the behavior of mutable and immutable arguments.\n",
        "\n",
        "* If a is an integer like 10, it won’t change outside the function. But if b is a list like [1, 2, 3], it will become [1, 2, 3, 10] after the function.\n",
        "This shows that integers are immutable (they stay the same), and lists are mutable (they get modified inside the function)."
      ],
      "metadata": {
        "id": "1X0BlMVo1KCi"
      }
    },
    {
      "cell_type": "code",
      "source": [
        "def test(a, b):\n",
        "    a += 5\n",
        "    b.append(10)"
      ],
      "metadata": {
        "id": "PJnWGIBA2A9P"
      },
      "execution_count": 8,
      "outputs": []
    },
    {
      "cell_type": "markdown",
      "source": [
        "7.Write a program that performs basic arithmetic operations on two user-input numbers."
      ],
      "metadata": {
        "id": "7iItuvsi1KeF"
      }
    },
    {
      "cell_type": "code",
      "source": [
        "a = int(input(\"Enter first number: \"))\n",
        "b = int(input(\"Enter second number: \"))\n",
        "\n",
        "print(\"Addition is:\", a + b)\n",
        "print(\"Subtraction is:\", a - b)\n",
        "print(\"Multiplication is:\", a * b)\n",
        "\n",
        "if b != 0:\n",
        "    print(\"Division is:\", a / b)\n",
        "else:\n",
        "    print(\"Cannot divide by zero\")\n"
      ],
      "metadata": {
        "colab": {
          "base_uri": "https://localhost:8080/"
        },
        "id": "F3gUGCmk2jwo",
        "outputId": "d641579d-9d01-4955-904d-b722541221e4"
      },
      "execution_count": 10,
      "outputs": [
        {
          "output_type": "stream",
          "name": "stdout",
          "text": [
            "Enter first number: 23\n",
            "Enter second number: 33\n",
            "Addition is: 56\n",
            "Subtraction is: -10\n",
            "Multiplication is: 759\n",
            "Division is: 0.696969696969697\n"
          ]
        }
      ]
    },
    {
      "cell_type": "markdown",
      "source": [
        "8.Write a program to demonstrate the use of logical operators."
      ],
      "metadata": {
        "id": "PMbZsH261Kf1"
      }
    },
    {
      "cell_type": "code",
      "source": [
        "a = 10\n",
        "b = 5\n",
        "c = 15\n",
        "\n",
        "# using and operator\n",
        "print(\"a > b and a < c:\", a > b and a < c)\n",
        "\n",
        "# using or operator\n",
        "print(\"a < b or a < c:\", a < b or a < c)\n",
        "\n",
        "# using not operator\n",
        "print(\"not(a > b):\", not(a > b))"
      ],
      "metadata": {
        "id": "1hQX9JNv27Xd"
      },
      "execution_count": null,
      "outputs": []
    },
    {
      "cell_type": "markdown",
      "source": [
        "9.Write a Python program to convert user input from string to integer, float, and boolean types."
      ],
      "metadata": {
        "id": "2ljyXW6G3CNd"
      }
    },
    {
      "cell_type": "code",
      "source": [
        "# Taking input from the user\n",
        "user_input = input(\"Enter something: \")\n",
        "\n",
        "# Converting to integer\n",
        "try:\n",
        "    int_value = int(user_input)\n",
        "    print(\"Integer value:\", int_value)\n",
        "except:\n",
        "    print(\"Cannot convert to integer.\")\n",
        "\n",
        "# Converting to float\n",
        "try:\n",
        "    float_value = float(user_input)\n",
        "    print(\"Float value:\", float_value)\n",
        "except:\n",
        "    print(\"Cannot convert to float.\")\n",
        "\n",
        "# Converting to boolean\n",
        "bool_value = bool(user_input)\n",
        "print(\"Boolean value:\", bool_value)"
      ],
      "metadata": {
        "id": "2V7l9vFK3I7u"
      },
      "execution_count": null,
      "outputs": []
    },
    {
      "cell_type": "markdown",
      "source": [
        "10.Write code to demonstrate type casting with list elements."
      ],
      "metadata": {
        "id": "36TJ4fof3CRE"
      }
    },
    {
      "cell_type": "code",
      "source": [
        "my_list = [\"10\", \"20\", \"30\"]\n",
        "\n",
        "int_list = [int(x) for x in my_list]\n",
        "float_list = [float(x) for x in int_list]\n",
        "\n",
        "print(\"Original list:\", my_list)\n",
        "print(\"As integers:\", int_list)\n",
        "print(\"As floats:\", float_list)\n"
      ],
      "metadata": {
        "id": "aOngSzIo3TGT"
      },
      "execution_count": null,
      "outputs": []
    },
    {
      "cell_type": "markdown",
      "source": [
        "11.Write a program that checks if a number is positive, negative, or zero."
      ],
      "metadata": {
        "id": "yfcF4R6I3Cb1"
      }
    },
    {
      "cell_type": "code",
      "source": [
        "num = float(input(\"Enter a number: \"))\n",
        "\n",
        "if num > 0:\n",
        "    print(\"The number is positive.\")\n",
        "elif num < 0:\n",
        "    print(\"The number is negative.\")\n",
        "else:\n",
        "    print(\"The number is zero.\")\n"
      ],
      "metadata": {
        "id": "hL2K2-TH3dSR"
      },
      "execution_count": null,
      "outputs": []
    },
    {
      "cell_type": "markdown",
      "source": [
        "12.Write a for loop to print numbers from 1 to 10."
      ],
      "metadata": {
        "id": "LduCXpFQ3CqD"
      }
    },
    {
      "cell_type": "code",
      "source": [
        "for i in range(1, 11):\n",
        "    print(i)"
      ],
      "metadata": {
        "id": "YSkLnOvi3s9s"
      },
      "execution_count": null,
      "outputs": []
    },
    {
      "cell_type": "markdown",
      "source": [
        "13.Write a Python program to find the sum of all even numbers between 1 and 50."
      ],
      "metadata": {
        "id": "EF7gqHcJ3DFU"
      }
    },
    {
      "cell_type": "code",
      "source": [
        "sum = 0\n",
        "\n",
        "for i in range(1, 51):\n",
        "    if i % 2 == 0:\n",
        "        sum = sum + i\n",
        "\n",
        "print(\"Sum of even numbers from 1 to 50 is:\", sum)\n"
      ],
      "metadata": {
        "id": "BjW-mgtr34po"
      },
      "execution_count": null,
      "outputs": []
    },
    {
      "cell_type": "markdown",
      "source": [
        "14.Write a program to reverse a string using a while loop."
      ],
      "metadata": {
        "id": "9rW5H7sX3DIw"
      }
    },
    {
      "cell_type": "code",
      "source": [
        "text = input(\"Enter a word: \")\n",
        "i = -1\n",
        "reverse = \"\"\n",
        "\n",
        "while i >= -len(text):\n",
        "    reverse = reverse + text[i]\n",
        "    i = i - 1\n",
        "\n",
        "print(\"Reversed word is:\", reverse)"
      ],
      "metadata": {
        "id": "-w7OiTMX4Daj"
      },
      "execution_count": null,
      "outputs": []
    },
    {
      "cell_type": "markdown",
      "source": [
        "15.Write a Python program to calculate the factorial of a number provided by the user using a while loop."
      ],
      "metadata": {
        "id": "-Jrm6_dq1Ki0"
      }
    },
    {
      "cell_type": "code",
      "source": [
        "num = int(input(\"Enter a number: \"))\n",
        "fact = 1\n",
        "i = 1\n",
        "\n",
        "while i <= num:\n",
        "    fact = fact * i\n",
        "    i = i + 1\n",
        "\n",
        "print(\"Factorial is:\", fact)\n"
      ],
      "metadata": {
        "id": "HvyCH6fS4EDc"
      },
      "execution_count": null,
      "outputs": []
    }
  ]
}